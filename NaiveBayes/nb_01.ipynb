{
 "cells": [
  {
   "cell_type": "code",
   "execution_count": 5,
   "metadata": {},
   "outputs": [],
   "source": [
    "import numpy as np"
   ]
  },
  {
   "cell_type": "code",
   "execution_count": 7,
   "metadata": {},
   "outputs": [],
   "source": [
    "X = np.random.randint(5,size=(6, 100))\n",
    "Y = np.array([1,2,3,4,5,6])"
   ]
  },
  {
   "cell_type": "code",
   "execution_count": 8,
   "metadata": {},
   "outputs": [
    {
     "data": {
      "text/plain": [
       "array([[1, 0, 1, 4, 2, 3, 0, 3, 1, 0, 3, 4, 0, 4, 2, 2, 2, 3, 1, 2, 4, 3,\n",
       "        0, 2, 1, 0, 0, 0, 0, 1, 2, 4, 0, 3, 4, 2, 3, 3, 1, 4, 1, 4, 3, 1,\n",
       "        2, 4, 3, 1, 4, 2, 2, 1, 0, 0, 3, 2, 4, 3, 3, 4, 3, 1, 1, 0, 2, 3,\n",
       "        2, 0, 3, 0, 3, 3, 4, 0, 1, 0, 1, 0, 0, 2, 1, 0, 1, 4, 4, 1, 1, 2,\n",
       "        2, 4, 1, 0, 4, 4, 2, 3, 3, 0, 2, 0],\n",
       "       [3, 3, 3, 4, 2, 1, 0, 1, 2, 2, 2, 3, 3, 4, 0, 3, 2, 1, 3, 2, 4, 3,\n",
       "        3, 0, 4, 4, 2, 4, 0, 4, 2, 3, 1, 3, 3, 3, 1, 4, 3, 1, 0, 2, 1, 0,\n",
       "        1, 0, 1, 2, 2, 2, 2, 1, 0, 2, 4, 1, 1, 0, 2, 3, 2, 0, 3, 3, 0, 1,\n",
       "        2, 3, 1, 0, 4, 2, 2, 3, 4, 1, 0, 3, 0, 2, 0, 0, 2, 4, 1, 3, 2, 1,\n",
       "        1, 4, 2, 3, 0, 2, 2, 1, 0, 1, 1, 2],\n",
       "       [4, 3, 1, 2, 1, 1, 1, 3, 2, 3, 3, 2, 0, 3, 4, 4, 3, 1, 3, 2, 3, 3,\n",
       "        4, 1, 2, 0, 0, 4, 2, 3, 1, 3, 3, 1, 0, 1, 2, 2, 2, 4, 0, 0, 0, 0,\n",
       "        4, 2, 1, 1, 2, 3, 3, 4, 1, 1, 0, 4, 2, 0, 4, 0, 0, 1, 0, 4, 3, 4,\n",
       "        0, 2, 1, 0, 0, 2, 2, 3, 4, 2, 1, 1, 3, 4, 3, 4, 2, 2, 0, 3, 1, 0,\n",
       "        2, 0, 4, 2, 4, 4, 4, 2, 2, 0, 3, 0],\n",
       "       [4, 0, 3, 4, 3, 4, 1, 1, 0, 2, 3, 3, 0, 4, 4, 2, 1, 4, 0, 0, 2, 2,\n",
       "        4, 0, 2, 3, 0, 2, 1, 2, 3, 3, 4, 4, 2, 2, 0, 4, 2, 0, 3, 3, 1, 2,\n",
       "        4, 3, 1, 1, 1, 0, 3, 2, 2, 0, 4, 3, 3, 0, 4, 0, 4, 2, 4, 0, 1, 3,\n",
       "        2, 0, 4, 0, 0, 0, 3, 0, 2, 4, 0, 2, 2, 4, 3, 1, 4, 1, 3, 2, 4, 4,\n",
       "        1, 2, 4, 1, 1, 2, 4, 3, 0, 3, 1, 0],\n",
       "       [3, 3, 3, 0, 4, 2, 4, 1, 1, 0, 2, 1, 0, 4, 2, 0, 4, 4, 4, 1, 1, 0,\n",
       "        2, 2, 0, 4, 4, 1, 3, 4, 1, 3, 0, 4, 1, 4, 1, 2, 3, 4, 4, 3, 1, 3,\n",
       "        0, 4, 0, 4, 3, 0, 0, 3, 3, 3, 2, 1, 1, 4, 4, 0, 2, 0, 3, 0, 0, 4,\n",
       "        1, 3, 0, 0, 0, 1, 4, 1, 1, 1, 4, 2, 3, 1, 0, 0, 0, 1, 3, 4, 3, 3,\n",
       "        2, 1, 3, 0, 0, 2, 2, 4, 3, 0, 4, 0],\n",
       "       [4, 1, 4, 2, 1, 4, 1, 4, 0, 3, 1, 2, 0, 3, 4, 0, 0, 3, 0, 0, 3, 0,\n",
       "        2, 1, 3, 3, 0, 4, 0, 3, 4, 2, 2, 1, 4, 0, 3, 3, 0, 2, 1, 0, 0, 0,\n",
       "        3, 1, 1, 0, 1, 1, 4, 3, 1, 3, 3, 4, 1, 4, 4, 1, 3, 4, 4, 2, 2, 0,\n",
       "        4, 1, 2, 1, 4, 4, 0, 4, 2, 2, 1, 4, 0, 3, 1, 0, 0, 0, 3, 3, 2, 4,\n",
       "        2, 3, 4, 0, 1, 4, 1, 0, 1, 3, 4, 3]])"
      ]
     },
     "execution_count": 8,
     "metadata": {},
     "output_type": "execute_result"
    }
   ],
   "source": [
    "X"
   ]
  },
  {
   "cell_type": "code",
   "execution_count": 9,
   "metadata": {},
   "outputs": [
    {
     "data": {
      "text/plain": [
       "array([1, 2, 3, 4, 5, 6])"
      ]
     },
     "execution_count": 9,
     "metadata": {},
     "output_type": "execute_result"
    }
   ],
   "source": [
    "Y"
   ]
  },
  {
   "cell_type": "code",
   "execution_count": 13,
   "metadata": {},
   "outputs": [],
   "source": [
    "# 나이브 베이즈 모델 만들고 위의 데이터를 훈련데이터로 훈련\n",
    "from sklearn.naive_bayes import MultinomialNB\n",
    "clf = MultinomialNB()"
   ]
  },
  {
   "cell_type": "code",
   "execution_count": 14,
   "metadata": {},
   "outputs": [
    {
     "data": {
      "text/plain": [
       "MultinomialNB()"
      ]
     },
     "execution_count": 14,
     "metadata": {},
     "output_type": "execute_result"
    }
   ],
   "source": [
    "clf.fit(X,Y)"
   ]
  },
  {
   "cell_type": "code",
   "execution_count": 15,
   "metadata": {},
   "outputs": [
    {
     "name": "stdout",
     "output_type": "stream",
     "text": [
      "[4]\n"
     ]
    }
   ],
   "source": [
    "# 4번째 데이터의 class예측\n",
    "print(clf.predict(X[3].reshape(1,100)))"
   ]
  },
  {
   "cell_type": "code",
   "execution_count": 16,
   "metadata": {},
   "outputs": [
    {
     "data": {
      "text/plain": [
       "array([1, 2, 3, 4, 5, 6])"
      ]
     },
     "execution_count": 16,
     "metadata": {},
     "output_type": "execute_result"
    }
   ],
   "source": [
    "# 전체 훈련데이터 예측\n",
    "clf.predict(X)"
   ]
  },
  {
   "cell_type": "code",
   "execution_count": null,
   "metadata": {},
   "outputs": [],
   "source": []
  }
 ],
 "metadata": {
  "kernelspec": {
   "display_name": "Python 3",
   "language": "python",
   "name": "python3"
  },
  "language_info": {
   "codemirror_mode": {
    "name": "ipython",
    "version": 3
   },
   "file_extension": ".py",
   "mimetype": "text/x-python",
   "name": "python",
   "nbconvert_exporter": "python",
   "pygments_lexer": "ipython3",
   "version": "3.8.5"
  }
 },
 "nbformat": 4,
 "nbformat_minor": 4
}
