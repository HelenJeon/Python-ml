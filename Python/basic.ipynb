{
 "cells": [
  {
   "cell_type": "code",
   "execution_count": 9,
   "metadata": {},
   "outputs": [
    {
     "name": "stdout",
     "output_type": "stream",
     "text": [
      "1.6666666666666667\n",
      "1\n",
      "2\n",
      "125\n"
     ]
    }
   ],
   "source": [
    "# 사칙연산\n",
    "a = 5\n",
    "b = 3\n",
    "\n",
    "print(a / b)\n",
    "print(a // b)\n",
    "print(a % b)\n",
    "\n",
    "print(a ** b)"
   ]
  },
  {
   "cell_type": "code",
   "execution_count": 105,
   "metadata": {},
   "outputs": [
    {
     "name": "stdout",
     "output_type": "stream",
     "text": [
      "0.5\n",
      "True\n",
      "0.8999999999999999\n",
      "False\n",
      "0.8999999999999999\n",
      "0.9\n",
      "True\n"
     ]
    }
   ],
   "source": [
    "# 소숫점 비교\n",
    "a = 0.3 + 0.2\n",
    "print(a)\n",
    "\n",
    "if a == 0.5:\n",
    "    print(True)\n",
    "else:\n",
    "    print(False)\n",
    "\n",
    "   \n",
    "    \n",
    "a = 0.3 + 0.6\n",
    "print(a)\n",
    "\n",
    "if a == 0.9:\n",
    "    print(True)\n",
    "else:\n",
    "    print(False)\n",
    "\n",
    "\n",
    "    \n",
    "b = 0.3 + 0.6\n",
    "print(b)\n",
    "\n",
    "if round(b, 4) == 0.9:\n",
    "    print(round(b, 4))\n",
    "    print(True)\n",
    "else:\n",
    "    print(False)    "
   ]
  },
  {
   "cell_type": "code",
   "execution_count": 63,
   "metadata": {},
   "outputs": [
    {
     "name": "stdout",
     "output_type": "stream",
     "text": [
      "[]\n",
      "[]\n",
      "0: 1\n",
      "0: 2\n",
      "0: 10\n",
      "0: 8\n",
      "[1, 0, 3, 4, 5, 6, 7, 8, 9, 10]\n",
      "[1, 2, 3, 4, 5, 6, 7, 8, 9, 10]\n",
      "[2, 3, 4, 5]  >>> 인덱스 1부터 네번째 까지\n",
      "[1, 2, 3, 4, 5, 6]\n",
      "[7, 8, 9, 10]\n",
      "[1, 0, 3, 4, 5, 6, 7, 8, 9, 10]\n",
      "[0, 1, 3, 4, 5, 6, 7, 8, 9, 10]\n",
      "[10, 9, 8, 7, 6, 5, 4, 3, 1, 0]\n",
      "[0, 1, 3, 4, 5, 6, 7, 8, 9, 10]\n",
      "[0, 1, 3, 4, 5, 6, 7, 8, 9, 10]\n",
      "[0, 1, 99, 3, 99, 4, 5, 6, 7, 8, 9, 10]\n",
      "2\n",
      "[0, 1, 99, 3, 99, 4, 5, 6, 7, 8, 10]\n"
     ]
    }
   ],
   "source": [
    "# 리스트\n",
    "a = list()\n",
    "print(a)\n",
    "\n",
    "a = []\n",
    "print(a)\n",
    "\n",
    "a = [1, 2, 3, 4, 5, 6, 7, 8, 9, 10]\n",
    "print(\"0:\", a[0])\n",
    "print(\"0:\", a[1])\n",
    "print(\"0:\", a[-1])\n",
    "print(\"0:\", a[-3])\n",
    "\n",
    "a[1] = 0\n",
    "print(a)\n",
    "a[1] = 2\n",
    "print(a)\n",
    "print(a[1:5], \" >>> 인덱스 1부터 네번째 까지\") \n",
    "print(a[:6])\n",
    "print(a[6:])\n",
    "\n",
    "a[1] = 0\n",
    "print(a)\n",
    "a.sort()\n",
    "print(a)\n",
    "a.sort(reverse = True)\n",
    "print(a)\n",
    "a.sort()\n",
    "print(a)\n",
    "a.reverse\n",
    "print(a)\n",
    "a.insert(2,99)\n",
    "a.insert(4,99)\n",
    "print(a)\n",
    "print(a.count(99))\n",
    "a.remove(9)\n",
    "print(a)"
   ]
  },
  {
   "cell_type": "code",
   "execution_count": 33,
   "metadata": {},
   "outputs": [
    {
     "name": "stdout",
     "output_type": "stream",
     "text": [
      "[0, 1, 2, 3, 4, 5, 6, 7, 8, 9]\n"
     ]
    }
   ],
   "source": [
    "arr_1 = []\n",
    "for i in range(10):\n",
    "    arr_1.append(i)\n",
    "\n",
    "print(arr_1)"
   ]
  },
  {
   "cell_type": "code",
   "execution_count": 38,
   "metadata": {},
   "outputs": [
    {
     "name": "stdout",
     "output_type": "stream",
     "text": [
      "[0, 1, 2, 3, 4, 5, 6, 7, 8, 9]\n"
     ]
    }
   ],
   "source": [
    "arr_2 = [i for i in range(10)]\n",
    "print(arr_2)"
   ]
  },
  {
   "cell_type": "code",
   "execution_count": 48,
   "metadata": {},
   "outputs": [
    {
     "name": "stdout",
     "output_type": "stream",
     "text": [
      "[[0, 0, 0], [0, 0, 0], [0, 0, 0], [0, 0, 0]]\n"
     ]
    }
   ],
   "source": [
    "i = 3\n",
    "j = 4\n",
    "arr_3 = [[0] * i for _ in range(j)]\n",
    "print(arr_3)"
   ]
  },
  {
   "cell_type": "code",
   "execution_count": 69,
   "metadata": {},
   "outputs": [
    {
     "name": "stdout",
     "output_type": "stream",
     "text": [
      "[0, 1, 2, 3, 4, 5, 6, 7, 8, 9]\n",
      "[0, 1, 2, 3, 5, 6, 7, 9]\n"
     ]
    }
   ],
   "source": [
    "arr_4 = [i for i in range(10)]\n",
    "print(arr_4)\n",
    "remove_set = {4, 8}\n",
    "rtn_4 = [i for i in arr_4 if i not in remove_set]\n",
    "print(rtn_4)"
   ]
  },
  {
   "cell_type": "code",
   "execution_count": 72,
   "metadata": {},
   "outputs": [
    {
     "name": "stdout",
     "output_type": "stream",
     "text": [
      "Hello World \"J\"\n",
      "Hello World 'J'\n",
      "Hello World \"J\"\n"
     ]
    }
   ],
   "source": [
    "# 문자열\n",
    "str_1 = \"Hello World \\\"J\\\"\"\n",
    "str_2 = \"Hello World 'J'\"\n",
    "str_3 = 'Hello World \"J\"'\n",
    "\n",
    "print(str_1)\n",
    "print(str_2)\n",
    "print(str_3)"
   ]
  },
  {
   "cell_type": "code",
   "execution_count": 78,
   "metadata": {},
   "outputs": [
    {
     "name": "stdout",
     "output_type": "stream",
     "text": [
      "Hello!Hello!\n",
      "el\n"
     ]
    }
   ],
   "source": [
    "str_1 = \"Hello!\"\n",
    "print(str_1 * 2)\n",
    "print(str_1[1:3])"
   ]
  },
  {
   "cell_type": "code",
   "execution_count": 80,
   "metadata": {},
   "outputs": [
    {
     "name": "stdout",
     "output_type": "stream",
     "text": [
      "(1, 2, 3)\n"
     ]
    }
   ],
   "source": [
    "# 튜플\n",
    "tup_1 = (1, 2, 3)\n",
    "print(tup_1)"
   ]
  },
  {
   "cell_type": "code",
   "execution_count": 87,
   "metadata": {},
   "outputs": [
    {
     "name": "stdout",
     "output_type": "stream",
     "text": [
      "{'이름': 'Helen', '직업': 'Worker', '취미': 'Sing'}\n",
      "Sing\n",
      "dict_keys(['이름', '직업', '취미'])\n",
      "dict_values(['Helen', 'Worker', 'Sing'])\n",
      "Helen\n",
      "Worker\n",
      "Sing\n"
     ]
    }
   ],
   "source": [
    "# 사전\n",
    "dic = dict()\n",
    "dic['이름'] = 'Helen'\n",
    "dic['직업'] = 'Worker'\n",
    "dic['취미'] = 'Sing'\n",
    "print(dic)\n",
    "\n",
    "if '취미' in dic:\n",
    "    print(dic['취미'])\n",
    "    \n",
    "key_list = dic.keys()\n",
    "print(key_list)\n",
    "val_list = dic.values()\n",
    "print(val_list)\n",
    "\n",
    "for i in key_list:\n",
    "    print(dic[i])"
   ]
  },
  {
   "cell_type": "code",
   "execution_count": 98,
   "metadata": {},
   "outputs": [
    {
     "name": "stdout",
     "output_type": "stream",
     "text": [
      "{1, 2, 3, 4, 5}\n",
      "{1, 2, 3, 4, 5}\n",
      "{1, 2, 3, 4, 5, 99}\n",
      "{1, 2, 3, 4, 5, 99, 77, 88}\n",
      "{1, 2, 3, 4, 5, 99, 88}\n",
      "{1, 2, 3, 4, 6, 8, 9}\n",
      "{1}\n",
      "{9, 3, 6}\n"
     ]
    }
   ],
   "source": [
    "# 집합\n",
    "data = set([1,2,2,3,4,4,5])\n",
    "print(data)\n",
    "\n",
    "data = {1,2,2,3,4,4,5}\n",
    "print(data)\n",
    "\n",
    "data.add(99)\n",
    "print(data)\n",
    "data.update([88,77])\n",
    "print(data)\n",
    "data.remove(77)\n",
    "print(data)\n",
    "\n",
    "data_1 = {1,3,6,9}\n",
    "data_2 = {1,2,4,8}\n",
    "print(data_1 | data_2)\n",
    "print(data_1 & data_2)\n",
    "print(data_1 - data_2)"
   ]
  },
  {
   "cell_type": "code",
   "execution_count": 99,
   "metadata": {},
   "outputs": [
    {
     "name": "stdout",
     "output_type": "stream",
     "text": [
      "A\n"
     ]
    }
   ],
   "source": [
    "score = 90\n",
    "\n",
    "if score >= 90:\n",
    "    print(\"A\")\n",
    "elif score >= 80:\n",
    "    print(\"B\")\n",
    "else:\n",
    "    print(\"C\")"
   ]
  },
  {
   "cell_type": "code",
   "execution_count": 104,
   "metadata": {},
   "outputs": [
    {
     "name": "stdout",
     "output_type": "stream",
     "text": [
      "[1]\n",
      "[1, 2]\n",
      "[1, 2, 4]\n",
      "result: [1, 2, 4]\n",
      "result: [1, 2, 4]\n"
     ]
    }
   ],
   "source": [
    "data = [1,2,3,3,4,5,5]\n",
    "remove_set = {3,5}\n",
    "\n",
    "result = []\n",
    "for i in data:\n",
    "    if i not in remove_set:\n",
    "        result.append(i)\n",
    "        print(result)\n",
    "        \n",
    "print(\"result:\", result)     \n",
    "\n",
    "\n",
    "result = [i for i in data if i not in remove_set]\n",
    "print(\"result:\", result)"
   ]
  },
  {
   "cell_type": "code",
   "execution_count": 5,
   "metadata": {},
   "outputs": [
    {
     "name": "stdout",
     "output_type": "stream",
     "text": [
      "18\n"
     ]
    }
   ],
   "source": [
    "i = 1\n",
    "result = 0\n",
    "while i < 10:\n",
    "    if i % 3 == 0:\n",
    "        result = result + i\n",
    "    i = i + 1\n",
    "    \n",
    "print(result)"
   ]
  },
  {
   "cell_type": "code",
   "execution_count": 9,
   "metadata": {},
   "outputs": [
    {
     "name": "stdout",
     "output_type": "stream",
     "text": [
      "45\n"
     ]
    }
   ],
   "source": [
    "result = 0\n",
    "for i in range(0,10):\n",
    "    result += i\n",
    "\n",
    "print(result)"
   ]
  },
  {
   "cell_type": "code",
   "execution_count": 15,
   "metadata": {},
   "outputs": [
    {
     "name": "stdout",
     "output_type": "stream",
     "text": [
      "40\n",
      "50\n"
     ]
    }
   ],
   "source": [
    "data = [10, 20, 30, 40, 50]\n",
    "for i in range(5):\n",
    "    if data[i] > 30:\n",
    "        print(data[i])"
   ]
  },
  {
   "cell_type": "code",
   "execution_count": 17,
   "metadata": {},
   "outputs": [
    {
     "name": "stdout",
     "output_type": "stream",
     "text": [
      "40\n",
      "50\n"
     ]
    }
   ],
   "source": [
    "data = [10, 20, 30, 40, 50]\n",
    "remove_set = {2, 3}\n",
    "\n",
    "for i in range(5):\n",
    "    if i + 1 in remove_set:\n",
    "        continue\n",
    "    if data[i] > 10:\n",
    "        print(data[i])"
   ]
  },
  {
   "cell_type": "code",
   "execution_count": 25,
   "metadata": {},
   "outputs": [
    {
     "name": "stdout",
     "output_type": "stream",
     "text": [
      "i: 1 j: 1 i*j: 1\n",
      "i: 1 j: 2 i*j: 2\n",
      "i: 1 j: 3 i*j: 3\n",
      "i: 1 j: 4 i*j: 4\n",
      "i: 1 j: 5 i*j: 5\n",
      "i: 1 j: 6 i*j: 6\n",
      "i: 1 j: 7 i*j: 7\n",
      "i: 1 j: 8 i*j: 8\n",
      "i: 1 j: 9 i*j: 9\n",
      "\n",
      "i: 2 j: 1 i*j: 2\n",
      "i: 2 j: 2 i*j: 4\n",
      "i: 2 j: 3 i*j: 6\n",
      "i: 2 j: 4 i*j: 8\n",
      "i: 2 j: 5 i*j: 10\n",
      "i: 2 j: 6 i*j: 12\n",
      "i: 2 j: 7 i*j: 14\n",
      "i: 2 j: 8 i*j: 16\n",
      "i: 2 j: 9 i*j: 18\n",
      "\n"
     ]
    }
   ],
   "source": [
    "for i in range(1,3):\n",
    "    for j in range(1,10):\n",
    "        print(\"i:\", i, \"j:\", j, \"i*j:\", i*j)\n",
    "    print()"
   ]
  },
  {
   "cell_type": "code",
   "execution_count": 33,
   "metadata": {},
   "outputs": [
    {
     "name": "stdout",
     "output_type": "stream",
     "text": [
      "5\n",
      "4 5 2 1 7\n",
      "[4, 5, 2, 1, 7]\n",
      "[1, 2, 4, 5, 7]\n"
     ]
    }
   ],
   "source": [
    "n = int(input())\n",
    "data = list(map(int, input().split()))\n",
    "print(data)\n",
    "data.sort()\n",
    "print(data)"
   ]
  },
  {
   "cell_type": "code",
   "execution_count": null,
   "metadata": {},
   "outputs": [],
   "source": []
  },
  {
   "cell_type": "code",
   "execution_count": null,
   "metadata": {},
   "outputs": [],
   "source": []
  }
 ],
 "metadata": {
  "kernelspec": {
   "display_name": "Python 3",
   "language": "python",
   "name": "python3"
  },
  "language_info": {
   "codemirror_mode": {
    "name": "ipython",
    "version": 3
   },
   "file_extension": ".py",
   "mimetype": "text/x-python",
   "name": "python",
   "nbconvert_exporter": "python",
   "pygments_lexer": "ipython3",
   "version": "3.8.5"
  }
 },
 "nbformat": 4,
 "nbformat_minor": 4
}
