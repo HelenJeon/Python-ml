{
 "cells": [
  {
   "cell_type": "code",
   "execution_count": 9,
   "metadata": {},
   "outputs": [
    {
     "name": "stdout",
     "output_type": "stream",
     "text": [
      "1.6666666666666667\n",
      "1\n",
      "2\n",
      "125\n"
     ]
    }
   ],
   "source": [
    "# 사칙연산\n",
    "a = 5\n",
    "b = 3\n",
    "\n",
    "print(a / b)\n",
    "print(a // b)\n",
    "print(a % b)\n",
    "\n",
    "print(a ** b)"
   ]
  },
  {
   "cell_type": "code",
   "execution_count": 16,
   "metadata": {},
   "outputs": [
    {
     "name": "stdout",
     "output_type": "stream",
     "text": [
      "0.5\n",
      "True\n",
      "----------\n",
      "0.8999999999999999\n",
      "False\n",
      "----------\n",
      "0.8999999999999999\n",
      "0.9\n",
      "True\n"
     ]
    }
   ],
   "source": [
    "# 소숫점 비교\n",
    "a = 0.3 + 0.2\n",
    "print(a)\n",
    "\n",
    "if a == 0.5:\n",
    "    print(True)\n",
    "else:\n",
    "    print(False)\n",
    "\n",
    "print(\"----------\")    \n",
    "    \n",
    "a = 0.3 + 0.6\n",
    "print(a)\n",
    "\n",
    "if a == 0.9:\n",
    "    print(True)\n",
    "else:\n",
    "    print(False)\n",
    "\n",
    "print(\"----------\")       \n",
    "    \n",
    "b = 0.3 + 0.6\n",
    "print(b)\n",
    "\n",
    "if round(b, 4) == 0.9:\n",
    "    print(round(b, 4))\n",
    "    print(True)\n",
    "else:\n",
    "    print(False)    "
   ]
  },
  {
   "cell_type": "code",
   "execution_count": 63,
   "metadata": {},
   "outputs": [
    {
     "name": "stdout",
     "output_type": "stream",
     "text": [
      "[]\n",
      "[]\n",
      "0: 1\n",
      "0: 2\n",
      "0: 10\n",
      "0: 8\n",
      "[1, 0, 3, 4, 5, 6, 7, 8, 9, 10]\n",
      "[1, 2, 3, 4, 5, 6, 7, 8, 9, 10]\n",
      "[2, 3, 4, 5]  >>> 인덱스 1부터 네번째 까지\n",
      "[1, 2, 3, 4, 5, 6]\n",
      "[7, 8, 9, 10]\n",
      "[1, 0, 3, 4, 5, 6, 7, 8, 9, 10]\n",
      "[0, 1, 3, 4, 5, 6, 7, 8, 9, 10]\n",
      "[10, 9, 8, 7, 6, 5, 4, 3, 1, 0]\n",
      "[0, 1, 3, 4, 5, 6, 7, 8, 9, 10]\n",
      "[0, 1, 3, 4, 5, 6, 7, 8, 9, 10]\n",
      "[0, 1, 99, 3, 99, 4, 5, 6, 7, 8, 9, 10]\n",
      "2\n",
      "[0, 1, 99, 3, 99, 4, 5, 6, 7, 8, 10]\n"
     ]
    }
   ],
   "source": [
    "# 리스트\n",
    "a = list()\n",
    "print(a)\n",
    "\n",
    "a = []\n",
    "print(a)\n",
    "\n",
    "a = [1, 2, 3, 4, 5, 6, 7, 8, 9, 10]\n",
    "print(\"0:\", a[0])\n",
    "print(\"0:\", a[1])\n",
    "print(\"0:\", a[-1])\n",
    "print(\"0:\", a[-3])\n",
    "\n",
    "a[1] = 0\n",
    "print(a)\n",
    "a[1] = 2\n",
    "print(a)\n",
    "print(a[1:5], \" >>> 인덱스 1부터 네번째 까지\") \n",
    "print(a[:6])\n",
    "print(a[6:])\n",
    "\n",
    "a[1] = 0\n",
    "print(a)\n",
    "a.sort()\n",
    "print(a)\n",
    "a.sort(reverse = True)\n",
    "print(a)\n",
    "a.sort()\n",
    "print(a)\n",
    "a.reverse\n",
    "print(a)\n",
    "a.insert(2,99)\n",
    "a.insert(4,99)\n",
    "print(a)\n",
    "print(a.count(99))\n",
    "a.remove(9)\n",
    "print(a)"
   ]
  },
  {
   "cell_type": "code",
   "execution_count": 33,
   "metadata": {},
   "outputs": [
    {
     "name": "stdout",
     "output_type": "stream",
     "text": [
      "[0, 1, 2, 3, 4, 5, 6, 7, 8, 9]\n"
     ]
    }
   ],
   "source": [
    "arr_1 = []\n",
    "for i in range(10):\n",
    "    arr_1.append(i)\n",
    "\n",
    "print(arr_1)"
   ]
  },
  {
   "cell_type": "code",
   "execution_count": 38,
   "metadata": {},
   "outputs": [
    {
     "name": "stdout",
     "output_type": "stream",
     "text": [
      "[0, 1, 2, 3, 4, 5, 6, 7, 8, 9]\n"
     ]
    }
   ],
   "source": [
    "arr_2 = [i for i in range(10)]\n",
    "print(arr_2)"
   ]
  },
  {
   "cell_type": "code",
   "execution_count": 48,
   "metadata": {},
   "outputs": [
    {
     "name": "stdout",
     "output_type": "stream",
     "text": [
      "[[0, 0, 0], [0, 0, 0], [0, 0, 0], [0, 0, 0]]\n"
     ]
    }
   ],
   "source": [
    "i = 3\n",
    "j = 4\n",
    "arr_3 = [[0] * i for _ in range(j)]\n",
    "print(arr_3)"
   ]
  },
  {
   "cell_type": "code",
   "execution_count": 69,
   "metadata": {},
   "outputs": [
    {
     "name": "stdout",
     "output_type": "stream",
     "text": [
      "[0, 1, 2, 3, 4, 5, 6, 7, 8, 9]\n",
      "[0, 1, 2, 3, 5, 6, 7, 9]\n"
     ]
    }
   ],
   "source": [
    "arr_4 = [i for i in range(10)]\n",
    "print(arr_4)\n",
    "remove_set = {4, 8}\n",
    "rtn_4 = [i for i in arr_4 if i not in remove_set]\n",
    "print(rtn_4)"
   ]
  },
  {
   "cell_type": "code",
   "execution_count": null,
   "metadata": {},
   "outputs": [],
   "source": []
  }
 ],
 "metadata": {
  "kernelspec": {
   "display_name": "Python 3",
   "language": "python",
   "name": "python3"
  },
  "language_info": {
   "codemirror_mode": {
    "name": "ipython",
    "version": 3
   },
   "file_extension": ".py",
   "mimetype": "text/x-python",
   "name": "python",
   "nbconvert_exporter": "python",
   "pygments_lexer": "ipython3",
   "version": "3.8.5"
  }
 },
 "nbformat": 4,
 "nbformat_minor": 4
}
