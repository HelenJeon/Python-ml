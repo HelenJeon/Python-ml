{
 "cells": [
  {
   "cell_type": "code",
   "execution_count": 2,
   "id": "bd8a3ce4",
   "metadata": {},
   "outputs": [
    {
     "name": "stdout",
     "output_type": "stream",
     "text": [
      "['beatae soluta recusandae']\n"
     ]
    }
   ],
   "source": [
    "import requests\n",
    "\n",
    "target = \"https://jsonplaceholder.typicode.com/posts\"\n",
    "response = requests.get(url = target)\n",
    "data = response.json()\n",
    "\n",
    "data_list = []\n",
    "for da in data:\n",
    "    if da['title'] == 'beatae soluta recusandae':\n",
    "        data_list.append(da['title'])\n",
    "\n",
    "print(data_list)"
   ]
  },
  {
   "cell_type": "code",
   "execution_count": null,
   "id": "4b898905",
   "metadata": {},
   "outputs": [],
   "source": []
  }
 ],
 "metadata": {
  "kernelspec": {
   "display_name": "Python 3 (ipykernel)",
   "language": "python",
   "name": "python3"
  },
  "language_info": {
   "codemirror_mode": {
    "name": "ipython",
    "version": 3
   },
   "file_extension": ".py",
   "mimetype": "text/x-python",
   "name": "python",
   "nbconvert_exporter": "python",
   "pygments_lexer": "ipython3",
   "version": "3.9.7"
  }
 },
 "nbformat": 4,
 "nbformat_minor": 5
}
