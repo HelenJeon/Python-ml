{
 "cells": [
  {
   "cell_type": "code",
   "execution_count": 1,
   "id": "868de3de",
   "metadata": {},
   "outputs": [],
   "source": [
    "import pandas as pd"
   ]
  },
  {
   "cell_type": "code",
   "execution_count": 2,
   "id": "3e29997e",
   "metadata": {},
   "outputs": [
    {
     "data": {
      "text/plain": [
       "'1.3.4'"
      ]
     },
     "execution_count": 2,
     "metadata": {},
     "output_type": "execute_result"
    }
   ],
   "source": [
    "pd.__version__"
   ]
  },
  {
   "cell_type": "code",
   "execution_count": 9,
   "id": "6432e33c",
   "metadata": {},
   "outputs": [
    {
     "name": "stdout",
     "output_type": "stream",
     "text": [
      "1    Braund\n",
      "2      Owen\n",
      "3    Harris\n",
      "dtype: object\n",
      "값: ['Braund' 'Owen' 'Harris']\n",
      "인덱스: Int64Index([1, 2, 3], dtype='int64')\n"
     ]
    }
   ],
   "source": [
    "# 시리즈(Series)\n",
    "sr = pd.Series([\"Braund\", \"Owen\", \"Harris\"], [1, 2, 3])\n",
    "print(sr)\n",
    "print(\"값: {}\".format(sr.values))\n",
    "print(\"인덱스: {}\".format(sr.index))"
   ]
  },
  {
   "cell_type": "code",
   "execution_count": 11,
   "id": "3477d751",
   "metadata": {},
   "outputs": [
    {
     "name": "stdout",
     "output_type": "stream",
     "text": [
      "      col1  col2  col3\n",
      "row1     1     2     3\n",
      "row2     4     5     6\n",
      "row3     7     8     9\n"
     ]
    }
   ],
   "source": [
    "# DataFrame\n",
    "idx = ['row1', 'row2', 'row3']\n",
    "col = ['col1', 'col2', 'col3']\n",
    "val = [[1,2,3], [4,5,6], [7,8,9]]\n",
    "\n",
    "df = pd.DataFrame(val, index=idx, columns=col)\n",
    "print(df)"
   ]
  },
  {
   "cell_type": "code",
   "execution_count": null,
   "id": "6c59ff08",
   "metadata": {},
   "outputs": [],
   "source": []
  }
 ],
 "metadata": {
  "kernelspec": {
   "display_name": "Python 3 (ipykernel)",
   "language": "python",
   "name": "python3"
  },
  "language_info": {
   "codemirror_mode": {
    "name": "ipython",
    "version": 3
   },
   "file_extension": ".py",
   "mimetype": "text/x-python",
   "name": "python",
   "nbconvert_exporter": "python",
   "pygments_lexer": "ipython3",
   "version": "3.9.7"
  }
 },
 "nbformat": 4,
 "nbformat_minor": 5
}
