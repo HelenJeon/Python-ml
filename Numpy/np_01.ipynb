{
 "cells": [
  {
   "cell_type": "code",
   "execution_count": 4,
   "metadata": {},
   "outputs": [],
   "source": [
    "import numpy as np"
   ]
  },
  {
   "cell_type": "code",
   "execution_count": 7,
   "metadata": {},
   "outputs": [
    {
     "name": "stdout",
     "output_type": "stream",
     "text": [
      "<class 'numpy.ndarray'>\n",
      "int64\n",
      "(2, 3)\n"
     ]
    }
   ],
   "source": [
    "arr1 = np.array([[1,2,3],[4,5,6]]) # ndarray데이터 타입으로 변환\n",
    "\n",
    "print(type(arr1))\n",
    "print(arr1.dtype)\n",
    "print(arr1.shape) # array 차원/크기 > 튜플 형태로 표현"
   ]
  },
  {
   "cell_type": "code",
   "execution_count": 8,
   "metadata": {},
   "outputs": [
    {
     "name": "stdout",
     "output_type": "stream",
     "text": [
      "[ 0  1  2  3  4  5  6  7  8  9 10 11 12 13 14 15 16 17 18 19]\n",
      "int64\n",
      "(2, 3)\n"
     ]
    }
   ],
   "source": [
    "arr_seq = np.arange(20)\n",
    "print(arr_seq)\n",
    "print(arr1.dtype)\n",
    "print(arr1.shape)"
   ]
  },
  {
   "cell_type": "code",
   "execution_count": 14,
   "metadata": {},
   "outputs": [
    {
     "name": "stdout",
     "output_type": "stream",
     "text": [
      "[ 1  2  3  4  5  6  7  8  9 10 11 12 13 14 15 16 17 18 19]\n",
      "4 19\n",
      "[ 1  2  3 99  5  6  7  8  9 10 11 12 13 14 15 16 17 18 19]\n"
     ]
    }
   ],
   "source": [
    "# 인덱싱: 넘파이에서 일부 데이터 세트나 특정 데이터만 선택\n",
    "\n",
    "arr_1 = np.arange(start=1, stop=20)\n",
    "print(arr_1)\n",
    "val = arr_1[3]\n",
    "print(arr_1[3], arr_1[-1])\n",
    "arr_1[3] = 99\n",
    "print(arr_1)"
   ]
  },
  {
   "cell_type": "code",
   "execution_count": 51,
   "metadata": {},
   "outputs": [
    {
     "name": "stdout",
     "output_type": "stream",
     "text": [
      "[ 1  2  3  4  5  6  7  8  9 10 11 12 13 14 15 16]\n",
      "[[ 1  2  3  4]\n",
      " [ 5  6  7  8]\n",
      " [ 9 10 11 12]\n",
      " [13 14 15 16]]\n",
      "1 10\n",
      "[[ 1  2  3  4]\n",
      " [ 5  6  7  8]\n",
      " [ 9 10 11 12]]\n",
      "[[13 14 15 16]]\n",
      "[[ 1  2  3  4]\n",
      " [ 5  6  7  8]\n",
      " [ 9 10 11 12]\n",
      " [13 14 15 16]]\n"
     ]
    }
   ],
   "source": [
    "arr_2 = np.arange(start=1, stop=17)\n",
    "arr_3 = arr_2.reshape(4,4)\n",
    "print(arr_2)\n",
    "print(arr_3)\n",
    "print(arr_3[0,0], arr_3[2,1])\n",
    "\n",
    "# 슬라이싱\n",
    "print(arr_3[:3])\n",
    "print(arr_3[3:])\n",
    "print(arr_3[:])"
   ]
  },
  {
   "cell_type": "code",
   "execution_count": null,
   "metadata": {},
   "outputs": [],
   "source": []
  }
 ],
 "metadata": {
  "kernelspec": {
   "display_name": "Python 3",
   "language": "python",
   "name": "python3"
  },
  "language_info": {
   "codemirror_mode": {
    "name": "ipython",
    "version": 3
   },
   "file_extension": ".py",
   "mimetype": "text/x-python",
   "name": "python",
   "nbconvert_exporter": "python",
   "pygments_lexer": "ipython3",
   "version": "3.8.5"
  }
 },
 "nbformat": 4,
 "nbformat_minor": 4
}
